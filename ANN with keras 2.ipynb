{
 "cells": [
  {
   "cell_type": "code",
   "execution_count": 33,
   "metadata": {},
   "outputs": [],
   "source": [
    "import pandas as pd\n",
    "import os\n",
    "os.chdir(\"/home/abhisek/Studies/Python program/Data Kaggle/Practice/Data\")"
   ]
  },
  {
   "cell_type": "code",
   "execution_count": 34,
   "metadata": {},
   "outputs": [
    {
     "data": {
      "text/html": [
       "<div>\n",
       "<style scoped>\n",
       "    .dataframe tbody tr th:only-of-type {\n",
       "        vertical-align: middle;\n",
       "    }\n",
       "\n",
       "    .dataframe tbody tr th {\n",
       "        vertical-align: top;\n",
       "    }\n",
       "\n",
       "    .dataframe thead th {\n",
       "        text-align: right;\n",
       "    }\n",
       "</style>\n",
       "<table border=\"1\" class=\"dataframe\">\n",
       "  <thead>\n",
       "    <tr style=\"text-align: right;\">\n",
       "      <th></th>\n",
       "      <th>Pregnancies</th>\n",
       "      <th>Glucose</th>\n",
       "      <th>BloodPressure</th>\n",
       "      <th>SkinThickness</th>\n",
       "      <th>Insulin</th>\n",
       "      <th>BMI</th>\n",
       "      <th>DiabetesPedigreeFunction</th>\n",
       "      <th>Age</th>\n",
       "      <th>Outcome</th>\n",
       "    </tr>\n",
       "  </thead>\n",
       "  <tbody>\n",
       "    <tr>\n",
       "      <th>0</th>\n",
       "      <td>6</td>\n",
       "      <td>148</td>\n",
       "      <td>72</td>\n",
       "      <td>35</td>\n",
       "      <td>0</td>\n",
       "      <td>33.6</td>\n",
       "      <td>0.627</td>\n",
       "      <td>50</td>\n",
       "      <td>1</td>\n",
       "    </tr>\n",
       "    <tr>\n",
       "      <th>1</th>\n",
       "      <td>1</td>\n",
       "      <td>85</td>\n",
       "      <td>66</td>\n",
       "      <td>29</td>\n",
       "      <td>0</td>\n",
       "      <td>26.6</td>\n",
       "      <td>0.351</td>\n",
       "      <td>31</td>\n",
       "      <td>0</td>\n",
       "    </tr>\n",
       "    <tr>\n",
       "      <th>2</th>\n",
       "      <td>8</td>\n",
       "      <td>183</td>\n",
       "      <td>64</td>\n",
       "      <td>0</td>\n",
       "      <td>0</td>\n",
       "      <td>23.3</td>\n",
       "      <td>0.672</td>\n",
       "      <td>32</td>\n",
       "      <td>1</td>\n",
       "    </tr>\n",
       "    <tr>\n",
       "      <th>3</th>\n",
       "      <td>1</td>\n",
       "      <td>89</td>\n",
       "      <td>66</td>\n",
       "      <td>23</td>\n",
       "      <td>94</td>\n",
       "      <td>28.1</td>\n",
       "      <td>0.167</td>\n",
       "      <td>21</td>\n",
       "      <td>0</td>\n",
       "    </tr>\n",
       "    <tr>\n",
       "      <th>4</th>\n",
       "      <td>0</td>\n",
       "      <td>137</td>\n",
       "      <td>40</td>\n",
       "      <td>35</td>\n",
       "      <td>168</td>\n",
       "      <td>43.1</td>\n",
       "      <td>2.288</td>\n",
       "      <td>33</td>\n",
       "      <td>1</td>\n",
       "    </tr>\n",
       "  </tbody>\n",
       "</table>\n",
       "</div>"
      ],
      "text/plain": [
       "   Pregnancies  Glucose  BloodPressure  SkinThickness  Insulin   BMI  \\\n",
       "0            6      148             72             35        0  33.6   \n",
       "1            1       85             66             29        0  26.6   \n",
       "2            8      183             64              0        0  23.3   \n",
       "3            1       89             66             23       94  28.1   \n",
       "4            0      137             40             35      168  43.1   \n",
       "\n",
       "   DiabetesPedigreeFunction  Age  Outcome  \n",
       "0                     0.627   50        1  \n",
       "1                     0.351   31        0  \n",
       "2                     0.672   32        1  \n",
       "3                     0.167   21        0  \n",
       "4                     2.288   33        1  "
      ]
     },
     "execution_count": 34,
     "metadata": {},
     "output_type": "execute_result"
    }
   ],
   "source": [
    "df=pd.read_csv(\"diabetes.csv\")\n",
    "df.head()"
   ]
  },
  {
   "cell_type": "code",
   "execution_count": 35,
   "metadata": {},
   "outputs": [
    {
     "data": {
      "text/plain": [
       "Pregnancies                 0\n",
       "Glucose                     0\n",
       "BloodPressure               0\n",
       "SkinThickness               0\n",
       "Insulin                     0\n",
       "BMI                         0\n",
       "DiabetesPedigreeFunction    0\n",
       "Age                         0\n",
       "Outcome                     0\n",
       "dtype: int64"
      ]
     },
     "execution_count": 35,
     "metadata": {},
     "output_type": "execute_result"
    }
   ],
   "source": [
    "df.isnull().sum()"
   ]
  },
  {
   "cell_type": "code",
   "execution_count": 36,
   "metadata": {},
   "outputs": [
    {
     "data": {
      "text/html": [
       "<div>\n",
       "<style scoped>\n",
       "    .dataframe tbody tr th:only-of-type {\n",
       "        vertical-align: middle;\n",
       "    }\n",
       "\n",
       "    .dataframe tbody tr th {\n",
       "        vertical-align: top;\n",
       "    }\n",
       "\n",
       "    .dataframe thead th {\n",
       "        text-align: right;\n",
       "    }\n",
       "</style>\n",
       "<table border=\"1\" class=\"dataframe\">\n",
       "  <thead>\n",
       "    <tr style=\"text-align: right;\">\n",
       "      <th></th>\n",
       "      <th>Pregnancies</th>\n",
       "      <th>Glucose</th>\n",
       "      <th>BloodPressure</th>\n",
       "      <th>SkinThickness</th>\n",
       "      <th>Insulin</th>\n",
       "      <th>BMI</th>\n",
       "      <th>DiabetesPedigreeFunction</th>\n",
       "      <th>Age</th>\n",
       "    </tr>\n",
       "  </thead>\n",
       "  <tbody>\n",
       "    <tr>\n",
       "      <th>0</th>\n",
       "      <td>6</td>\n",
       "      <td>148</td>\n",
       "      <td>72</td>\n",
       "      <td>35</td>\n",
       "      <td>0</td>\n",
       "      <td>33.6</td>\n",
       "      <td>0.627</td>\n",
       "      <td>50</td>\n",
       "    </tr>\n",
       "    <tr>\n",
       "      <th>1</th>\n",
       "      <td>1</td>\n",
       "      <td>85</td>\n",
       "      <td>66</td>\n",
       "      <td>29</td>\n",
       "      <td>0</td>\n",
       "      <td>26.6</td>\n",
       "      <td>0.351</td>\n",
       "      <td>31</td>\n",
       "    </tr>\n",
       "    <tr>\n",
       "      <th>2</th>\n",
       "      <td>8</td>\n",
       "      <td>183</td>\n",
       "      <td>64</td>\n",
       "      <td>0</td>\n",
       "      <td>0</td>\n",
       "      <td>23.3</td>\n",
       "      <td>0.672</td>\n",
       "      <td>32</td>\n",
       "    </tr>\n",
       "    <tr>\n",
       "      <th>3</th>\n",
       "      <td>1</td>\n",
       "      <td>89</td>\n",
       "      <td>66</td>\n",
       "      <td>23</td>\n",
       "      <td>94</td>\n",
       "      <td>28.1</td>\n",
       "      <td>0.167</td>\n",
       "      <td>21</td>\n",
       "    </tr>\n",
       "    <tr>\n",
       "      <th>4</th>\n",
       "      <td>0</td>\n",
       "      <td>137</td>\n",
       "      <td>40</td>\n",
       "      <td>35</td>\n",
       "      <td>168</td>\n",
       "      <td>43.1</td>\n",
       "      <td>2.288</td>\n",
       "      <td>33</td>\n",
       "    </tr>\n",
       "  </tbody>\n",
       "</table>\n",
       "</div>"
      ],
      "text/plain": [
       "   Pregnancies  Glucose  BloodPressure  SkinThickness  Insulin   BMI  \\\n",
       "0            6      148             72             35        0  33.6   \n",
       "1            1       85             66             29        0  26.6   \n",
       "2            8      183             64              0        0  23.3   \n",
       "3            1       89             66             23       94  28.1   \n",
       "4            0      137             40             35      168  43.1   \n",
       "\n",
       "   DiabetesPedigreeFunction  Age  \n",
       "0                     0.627   50  \n",
       "1                     0.351   31  \n",
       "2                     0.672   32  \n",
       "3                     0.167   21  \n",
       "4                     2.288   33  "
      ]
     },
     "execution_count": 36,
     "metadata": {},
     "output_type": "execute_result"
    }
   ],
   "source": [
    "# Independant variable\n",
    "X=df.iloc[:,[0,1,2,3,4,5,6,7]]\n",
    "X.head()"
   ]
  },
  {
   "cell_type": "code",
   "execution_count": 37,
   "metadata": {},
   "outputs": [
    {
     "data": {
      "text/html": [
       "<div>\n",
       "<style scoped>\n",
       "    .dataframe tbody tr th:only-of-type {\n",
       "        vertical-align: middle;\n",
       "    }\n",
       "\n",
       "    .dataframe tbody tr th {\n",
       "        vertical-align: top;\n",
       "    }\n",
       "\n",
       "    .dataframe thead th {\n",
       "        text-align: right;\n",
       "    }\n",
       "</style>\n",
       "<table border=\"1\" class=\"dataframe\">\n",
       "  <thead>\n",
       "    <tr style=\"text-align: right;\">\n",
       "      <th></th>\n",
       "      <th>Outcome</th>\n",
       "    </tr>\n",
       "  </thead>\n",
       "  <tbody>\n",
       "    <tr>\n",
       "      <th>0</th>\n",
       "      <td>1</td>\n",
       "    </tr>\n",
       "    <tr>\n",
       "      <th>1</th>\n",
       "      <td>0</td>\n",
       "    </tr>\n",
       "    <tr>\n",
       "      <th>2</th>\n",
       "      <td>1</td>\n",
       "    </tr>\n",
       "    <tr>\n",
       "      <th>3</th>\n",
       "      <td>0</td>\n",
       "    </tr>\n",
       "    <tr>\n",
       "      <th>4</th>\n",
       "      <td>1</td>\n",
       "    </tr>\n",
       "  </tbody>\n",
       "</table>\n",
       "</div>"
      ],
      "text/plain": [
       "   Outcome\n",
       "0        1\n",
       "1        0\n",
       "2        1\n",
       "3        0\n",
       "4        1"
      ]
     },
     "execution_count": 37,
     "metadata": {},
     "output_type": "execute_result"
    }
   ],
   "source": [
    "# Dependent\n",
    "y=df.iloc[:,[8]]\n",
    "y.head()"
   ]
  },
  {
   "cell_type": "code",
   "execution_count": 38,
   "metadata": {},
   "outputs": [
    {
     "name": "stdout",
     "output_type": "stream",
     "text": [
      "(568, 8)\n",
      "(200, 8)\n"
     ]
    }
   ],
   "source": [
    "# train test split \n",
    "from sklearn.model_selection import train_test_split\n",
    "X_train,X_test,y_train,y_test=train_test_split(X,y,test_size=.26,random_state=0)\n",
    "print(X_train.shape)\n",
    "print(X_test.shape)"
   ]
  },
  {
   "cell_type": "code",
   "execution_count": 39,
   "metadata": {},
   "outputs": [],
   "source": [
    "# Standardiize \n",
    "from sklearn.preprocessing import StandardScaler\n",
    "sc=StandardScaler()\n",
    "X_train=sc.fit_transform(X_train)\n",
    "X_test=sc.transform(X_test)"
   ]
  },
  {
   "cell_type": "code",
   "execution_count": 40,
   "metadata": {},
   "outputs": [],
   "source": [
    "# ANN \n",
    "# Import libiries\n",
    "import keras\n",
    "from keras.models import Sequential\n",
    "from keras.layers import Dense\n",
    "from keras.layers import Dropout"
   ]
  },
  {
   "cell_type": "code",
   "execution_count": 59,
   "metadata": {},
   "outputs": [],
   "source": [
    "# Initialization ANN\n",
    "classifier=Sequential()"
   ]
  },
  {
   "cell_type": "code",
   "execution_count": 60,
   "metadata": {},
   "outputs": [],
   "source": [
    "# Initial and first hidden layer\n",
    "classifier.add(Dense(units =5,kernel_initializer=\"he_normal\",activation=\"relu\",input_dim=8))"
   ]
  },
  {
   "cell_type": "code",
   "execution_count": 61,
   "metadata": {},
   "outputs": [],
   "source": [
    "# Second hidden layer\n",
    "classifier.add(Dense(units=5,kernel_initializer=\"he_normal\",activation=\"relu\"))"
   ]
  },
  {
   "cell_type": "code",
   "execution_count": 62,
   "metadata": {},
   "outputs": [],
   "source": [
    "#Third layer\n",
    "classifier.add(Dense(units=4,kernel_initializer=\"he_normal\",activation=\"relu\"))"
   ]
  },
  {
   "cell_type": "code",
   "execution_count": 63,
   "metadata": {},
   "outputs": [],
   "source": [
    "#output layer\n",
    "classifier.add(Dense(units=1,kernel_initializer=\"glorot_normal\",activation=\"sigmoid\"))"
   ]
  },
  {
   "cell_type": "code",
   "execution_count": 64,
   "metadata": {},
   "outputs": [
    {
     "name": "stdout",
     "output_type": "stream",
     "text": [
      "Model: \"sequential_2\"\n",
      "_________________________________________________________________\n",
      "Layer (type)                 Output Shape              Param #   \n",
      "=================================================================\n",
      "dense_17 (Dense)             (None, 5)                 45        \n",
      "_________________________________________________________________\n",
      "dense_18 (Dense)             (None, 5)                 30        \n",
      "_________________________________________________________________\n",
      "dense_19 (Dense)             (None, 4)                 24        \n",
      "_________________________________________________________________\n",
      "dense_20 (Dense)             (None, 1)                 5         \n",
      "=================================================================\n",
      "Total params: 104\n",
      "Trainable params: 104\n",
      "Non-trainable params: 0\n",
      "_________________________________________________________________\n"
     ]
    }
   ],
   "source": [
    "classifier.summary()"
   ]
  },
  {
   "cell_type": "code",
   "execution_count": 65,
   "metadata": {},
   "outputs": [],
   "source": [
    "# optimizer\n",
    "classifier.compile(optimizer=\"Adam\",loss=\"binary_crossentropy\",metrics=[\"accuracy\"])"
   ]
  },
  {
   "cell_type": "code",
   "execution_count": 66,
   "metadata": {},
   "outputs": [
    {
     "name": "stdout",
     "output_type": "stream",
     "text": [
      "Epoch 1/100\n",
      "152/152 [==============================] - 0s 2ms/step - loss: 0.6898 - accuracy: 0.6057 - val_loss: 0.7003 - val_accuracy: 0.6579\n",
      "Epoch 2/100\n",
      "152/152 [==============================] - 0s 2ms/step - loss: 0.6711 - accuracy: 0.6630 - val_loss: 0.6779 - val_accuracy: 0.6754\n",
      "Epoch 3/100\n",
      "152/152 [==============================] - 0s 2ms/step - loss: 0.6550 - accuracy: 0.6652 - val_loss: 0.6600 - val_accuracy: 0.6579\n",
      "Epoch 4/100\n",
      "152/152 [==============================] - 0s 2ms/step - loss: 0.6398 - accuracy: 0.6718 - val_loss: 0.6415 - val_accuracy: 0.6930\n",
      "Epoch 5/100\n",
      "152/152 [==============================] - 0s 2ms/step - loss: 0.6215 - accuracy: 0.6806 - val_loss: 0.6220 - val_accuracy: 0.6842\n",
      "Epoch 6/100\n",
      "152/152 [==============================] - 0s 2ms/step - loss: 0.6013 - accuracy: 0.7026 - val_loss: 0.6007 - val_accuracy: 0.7368\n",
      "Epoch 7/100\n",
      "152/152 [==============================] - 0s 2ms/step - loss: 0.5786 - accuracy: 0.7115 - val_loss: 0.5819 - val_accuracy: 0.7456\n",
      "Epoch 8/100\n",
      "152/152 [==============================] - 0s 2ms/step - loss: 0.5597 - accuracy: 0.7269 - val_loss: 0.5665 - val_accuracy: 0.7632\n",
      "Epoch 9/100\n",
      "152/152 [==============================] - 0s 2ms/step - loss: 0.5465 - accuracy: 0.7379 - val_loss: 0.5556 - val_accuracy: 0.7544\n",
      "Epoch 10/100\n",
      "152/152 [==============================] - 0s 2ms/step - loss: 0.5350 - accuracy: 0.7423 - val_loss: 0.5458 - val_accuracy: 0.7632\n",
      "Epoch 11/100\n",
      "152/152 [==============================] - 0s 2ms/step - loss: 0.5244 - accuracy: 0.7489 - val_loss: 0.5398 - val_accuracy: 0.7368\n",
      "Epoch 12/100\n",
      "152/152 [==============================] - 0s 2ms/step - loss: 0.5156 - accuracy: 0.7555 - val_loss: 0.5357 - val_accuracy: 0.7368\n",
      "Epoch 13/100\n",
      "152/152 [==============================] - 0s 2ms/step - loss: 0.5108 - accuracy: 0.7599 - val_loss: 0.5321 - val_accuracy: 0.7368\n",
      "Epoch 14/100\n",
      "152/152 [==============================] - 0s 2ms/step - loss: 0.5061 - accuracy: 0.7687 - val_loss: 0.5303 - val_accuracy: 0.7368\n",
      "Epoch 15/100\n",
      "152/152 [==============================] - 0s 2ms/step - loss: 0.5032 - accuracy: 0.7643 - val_loss: 0.5272 - val_accuracy: 0.7281\n",
      "Epoch 16/100\n",
      "152/152 [==============================] - 0s 2ms/step - loss: 0.5002 - accuracy: 0.7665 - val_loss: 0.5267 - val_accuracy: 0.7281\n",
      "Epoch 17/100\n",
      "152/152 [==============================] - 0s 2ms/step - loss: 0.4974 - accuracy: 0.7687 - val_loss: 0.5269 - val_accuracy: 0.7368\n",
      "Epoch 18/100\n",
      "152/152 [==============================] - 0s 2ms/step - loss: 0.4967 - accuracy: 0.7621 - val_loss: 0.5267 - val_accuracy: 0.7456\n",
      "Epoch 19/100\n",
      "152/152 [==============================] - 0s 2ms/step - loss: 0.4939 - accuracy: 0.7687 - val_loss: 0.5246 - val_accuracy: 0.7544\n",
      "Epoch 20/100\n",
      "152/152 [==============================] - 0s 2ms/step - loss: 0.4921 - accuracy: 0.7665 - val_loss: 0.5249 - val_accuracy: 0.7544\n",
      "Epoch 21/100\n",
      "152/152 [==============================] - 0s 2ms/step - loss: 0.4903 - accuracy: 0.7731 - val_loss: 0.5238 - val_accuracy: 0.7544\n",
      "Epoch 22/100\n",
      "152/152 [==============================] - 0s 2ms/step - loss: 0.4887 - accuracy: 0.7731 - val_loss: 0.5244 - val_accuracy: 0.7544\n",
      "Epoch 23/100\n",
      "152/152 [==============================] - 0s 2ms/step - loss: 0.4866 - accuracy: 0.7797 - val_loss: 0.5259 - val_accuracy: 0.7544\n",
      "Epoch 24/100\n",
      "152/152 [==============================] - 0s 2ms/step - loss: 0.4844 - accuracy: 0.7819 - val_loss: 0.5263 - val_accuracy: 0.7544\n",
      "Epoch 25/100\n",
      "152/152 [==============================] - 0s 2ms/step - loss: 0.4839 - accuracy: 0.7797 - val_loss: 0.5272 - val_accuracy: 0.7544\n",
      "Epoch 26/100\n",
      "152/152 [==============================] - 0s 2ms/step - loss: 0.4814 - accuracy: 0.7775 - val_loss: 0.5284 - val_accuracy: 0.7544\n",
      "Epoch 27/100\n",
      "152/152 [==============================] - 0s 2ms/step - loss: 0.4792 - accuracy: 0.7841 - val_loss: 0.5312 - val_accuracy: 0.7544\n",
      "Epoch 28/100\n",
      "152/152 [==============================] - 0s 2ms/step - loss: 0.4775 - accuracy: 0.7841 - val_loss: 0.5318 - val_accuracy: 0.7544\n",
      "Epoch 29/100\n",
      "152/152 [==============================] - 0s 2ms/step - loss: 0.4760 - accuracy: 0.7841 - val_loss: 0.5330 - val_accuracy: 0.7544\n",
      "Epoch 30/100\n",
      "152/152 [==============================] - 0s 2ms/step - loss: 0.4751 - accuracy: 0.7819 - val_loss: 0.5338 - val_accuracy: 0.7544\n",
      "Epoch 31/100\n",
      "152/152 [==============================] - 0s 2ms/step - loss: 0.4734 - accuracy: 0.7863 - val_loss: 0.5360 - val_accuracy: 0.7544\n",
      "Epoch 32/100\n",
      "152/152 [==============================] - 0s 2ms/step - loss: 0.4719 - accuracy: 0.7863 - val_loss: 0.5347 - val_accuracy: 0.7456\n",
      "Epoch 33/100\n",
      "152/152 [==============================] - 0s 2ms/step - loss: 0.4695 - accuracy: 0.7841 - val_loss: 0.5409 - val_accuracy: 0.7456\n",
      "Epoch 34/100\n",
      "152/152 [==============================] - 0s 2ms/step - loss: 0.4679 - accuracy: 0.7885 - val_loss: 0.5440 - val_accuracy: 0.7456\n",
      "Epoch 35/100\n",
      "152/152 [==============================] - 0s 2ms/step - loss: 0.4667 - accuracy: 0.7841 - val_loss: 0.5426 - val_accuracy: 0.7456\n",
      "Epoch 36/100\n",
      "152/152 [==============================] - 0s 2ms/step - loss: 0.4653 - accuracy: 0.7819 - val_loss: 0.5479 - val_accuracy: 0.7456\n",
      "Epoch 37/100\n",
      "152/152 [==============================] - 0s 2ms/step - loss: 0.4644 - accuracy: 0.7819 - val_loss: 0.5518 - val_accuracy: 0.7456\n",
      "Epoch 38/100\n",
      "152/152 [==============================] - 0s 2ms/step - loss: 0.4633 - accuracy: 0.7863 - val_loss: 0.5522 - val_accuracy: 0.7456\n",
      "Epoch 39/100\n",
      "152/152 [==============================] - 0s 2ms/step - loss: 0.4622 - accuracy: 0.7819 - val_loss: 0.5539 - val_accuracy: 0.7456\n",
      "Epoch 40/100\n",
      "152/152 [==============================] - 0s 2ms/step - loss: 0.4603 - accuracy: 0.7863 - val_loss: 0.5557 - val_accuracy: 0.7456\n",
      "Epoch 41/100\n",
      "152/152 [==============================] - 0s 2ms/step - loss: 0.4597 - accuracy: 0.7863 - val_loss: 0.5596 - val_accuracy: 0.7368\n",
      "Epoch 42/100\n",
      "152/152 [==============================] - 0s 2ms/step - loss: 0.4581 - accuracy: 0.7797 - val_loss: 0.5614 - val_accuracy: 0.7368\n",
      "Epoch 43/100\n",
      "152/152 [==============================] - 0s 2ms/step - loss: 0.4577 - accuracy: 0.7819 - val_loss: 0.5629 - val_accuracy: 0.7368\n",
      "Epoch 44/100\n",
      "152/152 [==============================] - 0s 2ms/step - loss: 0.4559 - accuracy: 0.7841 - val_loss: 0.5738 - val_accuracy: 0.7281\n",
      "Epoch 45/100\n",
      "152/152 [==============================] - 0s 2ms/step - loss: 0.4546 - accuracy: 0.7841 - val_loss: 0.5688 - val_accuracy: 0.7281\n",
      "Epoch 46/100\n",
      "152/152 [==============================] - 0s 2ms/step - loss: 0.4538 - accuracy: 0.7841 - val_loss: 0.5798 - val_accuracy: 0.7281\n",
      "Epoch 47/100\n",
      "152/152 [==============================] - 0s 2ms/step - loss: 0.4543 - accuracy: 0.7797 - val_loss: 0.5755 - val_accuracy: 0.7281\n",
      "Epoch 48/100\n",
      "152/152 [==============================] - 0s 2ms/step - loss: 0.4527 - accuracy: 0.7863 - val_loss: 0.5780 - val_accuracy: 0.7368\n",
      "Epoch 49/100\n",
      "152/152 [==============================] - 0s 2ms/step - loss: 0.4520 - accuracy: 0.7797 - val_loss: 0.5745 - val_accuracy: 0.7456\n",
      "Epoch 50/100\n",
      "152/152 [==============================] - 0s 2ms/step - loss: 0.4507 - accuracy: 0.7819 - val_loss: 0.5868 - val_accuracy: 0.7368\n",
      "Epoch 51/100\n",
      "152/152 [==============================] - 0s 2ms/step - loss: 0.4495 - accuracy: 0.7863 - val_loss: 0.5918 - val_accuracy: 0.7368\n",
      "Epoch 52/100\n",
      "152/152 [==============================] - 0s 2ms/step - loss: 0.4476 - accuracy: 0.7930 - val_loss: 0.6063 - val_accuracy: 0.7368\n",
      "Epoch 53/100\n",
      "152/152 [==============================] - 0s 2ms/step - loss: 0.4482 - accuracy: 0.7863 - val_loss: 0.6033 - val_accuracy: 0.7368\n",
      "Epoch 54/100\n",
      "152/152 [==============================] - 0s 2ms/step - loss: 0.4470 - accuracy: 0.7863 - val_loss: 0.6021 - val_accuracy: 0.7368\n",
      "Epoch 55/100\n",
      "152/152 [==============================] - 0s 2ms/step - loss: 0.4444 - accuracy: 0.7952 - val_loss: 0.6235 - val_accuracy: 0.7368\n",
      "Epoch 56/100\n",
      "152/152 [==============================] - 0s 2ms/step - loss: 0.4458 - accuracy: 0.7841 - val_loss: 0.6051 - val_accuracy: 0.7456\n",
      "Epoch 57/100\n",
      "152/152 [==============================] - 0s 2ms/step - loss: 0.4444 - accuracy: 0.7885 - val_loss: 0.6237 - val_accuracy: 0.7456\n"
     ]
    },
    {
     "name": "stdout",
     "output_type": "stream",
     "text": [
      "Epoch 58/100\n",
      "152/152 [==============================] - 0s 2ms/step - loss: 0.4433 - accuracy: 0.7930 - val_loss: 0.6335 - val_accuracy: 0.7456\n",
      "Epoch 59/100\n",
      "152/152 [==============================] - 0s 2ms/step - loss: 0.4423 - accuracy: 0.7863 - val_loss: 0.6369 - val_accuracy: 0.7368\n",
      "Epoch 60/100\n",
      "152/152 [==============================] - 0s 2ms/step - loss: 0.4413 - accuracy: 0.7885 - val_loss: 0.6603 - val_accuracy: 0.7456\n",
      "Epoch 61/100\n",
      "152/152 [==============================] - 0s 2ms/step - loss: 0.4414 - accuracy: 0.7841 - val_loss: 0.6513 - val_accuracy: 0.7456\n",
      "Epoch 62/100\n",
      "152/152 [==============================] - 0s 2ms/step - loss: 0.4403 - accuracy: 0.7907 - val_loss: 0.6569 - val_accuracy: 0.7368\n",
      "Epoch 63/100\n",
      "152/152 [==============================] - 0s 2ms/step - loss: 0.4395 - accuracy: 0.7930 - val_loss: 0.6785 - val_accuracy: 0.7456\n",
      "Epoch 64/100\n",
      "152/152 [==============================] - 0s 2ms/step - loss: 0.4388 - accuracy: 0.7885 - val_loss: 0.6699 - val_accuracy: 0.7368\n",
      "Epoch 65/100\n",
      "152/152 [==============================] - 0s 2ms/step - loss: 0.4374 - accuracy: 0.7863 - val_loss: 0.6902 - val_accuracy: 0.7368\n",
      "Epoch 66/100\n",
      "152/152 [==============================] - 0s 2ms/step - loss: 0.4384 - accuracy: 0.7907 - val_loss: 0.6794 - val_accuracy: 0.7368\n",
      "Epoch 67/100\n",
      "152/152 [==============================] - 0s 2ms/step - loss: 0.4368 - accuracy: 0.7952 - val_loss: 0.6992 - val_accuracy: 0.7456\n",
      "Epoch 68/100\n",
      "152/152 [==============================] - 0s 2ms/step - loss: 0.4366 - accuracy: 0.7885 - val_loss: 0.7041 - val_accuracy: 0.7368\n",
      "Epoch 69/100\n",
      "152/152 [==============================] - 0s 2ms/step - loss: 0.4351 - accuracy: 0.7952 - val_loss: 0.7213 - val_accuracy: 0.7456\n",
      "Epoch 70/100\n",
      "152/152 [==============================] - 0s 2ms/step - loss: 0.4344 - accuracy: 0.7907 - val_loss: 0.7108 - val_accuracy: 0.7368\n",
      "Epoch 71/100\n",
      "152/152 [==============================] - 0s 2ms/step - loss: 0.4333 - accuracy: 0.7885 - val_loss: 0.7334 - val_accuracy: 0.7456\n",
      "Epoch 72/100\n",
      "152/152 [==============================] - 0s 2ms/step - loss: 0.4324 - accuracy: 0.7996 - val_loss: 0.7382 - val_accuracy: 0.7456\n",
      "Epoch 73/100\n",
      "152/152 [==============================] - 0s 2ms/step - loss: 0.4316 - accuracy: 0.7819 - val_loss: 0.7561 - val_accuracy: 0.7456\n",
      "Epoch 74/100\n",
      "152/152 [==============================] - 0s 2ms/step - loss: 0.4316 - accuracy: 0.7930 - val_loss: 0.7582 - val_accuracy: 0.7456\n",
      "Epoch 75/100\n",
      "152/152 [==============================] - 0s 2ms/step - loss: 0.4297 - accuracy: 0.7930 - val_loss: 0.7656 - val_accuracy: 0.7281\n",
      "Epoch 76/100\n",
      "152/152 [==============================] - 0s 2ms/step - loss: 0.4294 - accuracy: 0.7996 - val_loss: 0.7857 - val_accuracy: 0.7368\n",
      "Epoch 77/100\n",
      "152/152 [==============================] - 0s 2ms/step - loss: 0.4294 - accuracy: 0.7952 - val_loss: 0.7868 - val_accuracy: 0.7281\n",
      "Epoch 78/100\n",
      "152/152 [==============================] - 0s 2ms/step - loss: 0.4280 - accuracy: 0.7952 - val_loss: 0.7643 - val_accuracy: 0.7193\n",
      "Epoch 79/100\n",
      "152/152 [==============================] - 0s 2ms/step - loss: 0.4287 - accuracy: 0.8018 - val_loss: 0.8042 - val_accuracy: 0.7018\n",
      "Epoch 80/100\n",
      "152/152 [==============================] - 0s 2ms/step - loss: 0.4263 - accuracy: 0.7974 - val_loss: 0.8138 - val_accuracy: 0.7105\n",
      "Epoch 81/100\n",
      "152/152 [==============================] - 0s 2ms/step - loss: 0.4243 - accuracy: 0.8040 - val_loss: 0.8329 - val_accuracy: 0.7105\n",
      "Epoch 82/100\n",
      "152/152 [==============================] - 0s 2ms/step - loss: 0.4252 - accuracy: 0.8018 - val_loss: 0.8360 - val_accuracy: 0.7018\n",
      "Epoch 83/100\n",
      "152/152 [==============================] - 0s 2ms/step - loss: 0.4230 - accuracy: 0.8062 - val_loss: 0.8613 - val_accuracy: 0.7018\n",
      "Epoch 84/100\n",
      "152/152 [==============================] - 0s 2ms/step - loss: 0.4256 - accuracy: 0.7996 - val_loss: 0.8361 - val_accuracy: 0.7105\n",
      "Epoch 85/100\n",
      "152/152 [==============================] - 0s 2ms/step - loss: 0.4234 - accuracy: 0.7974 - val_loss: 0.8477 - val_accuracy: 0.7105\n",
      "Epoch 86/100\n",
      "152/152 [==============================] - 0s 2ms/step - loss: 0.4224 - accuracy: 0.8018 - val_loss: 0.8728 - val_accuracy: 0.7281\n",
      "Epoch 87/100\n",
      "152/152 [==============================] - 0s 2ms/step - loss: 0.4218 - accuracy: 0.7930 - val_loss: 0.8618 - val_accuracy: 0.7105\n",
      "Epoch 88/100\n",
      "152/152 [==============================] - 0s 2ms/step - loss: 0.4196 - accuracy: 0.7996 - val_loss: 0.9236 - val_accuracy: 0.7193\n",
      "Epoch 89/100\n",
      "152/152 [==============================] - 0s 2ms/step - loss: 0.4203 - accuracy: 0.7885 - val_loss: 0.8937 - val_accuracy: 0.7281\n",
      "Epoch 90/100\n",
      "152/152 [==============================] - 0s 2ms/step - loss: 0.4183 - accuracy: 0.7952 - val_loss: 0.9095 - val_accuracy: 0.7281\n",
      "Epoch 91/100\n",
      "152/152 [==============================] - 0s 2ms/step - loss: 0.4204 - accuracy: 0.7952 - val_loss: 0.9002 - val_accuracy: 0.7105\n",
      "Epoch 92/100\n",
      "152/152 [==============================] - 0s 2ms/step - loss: 0.4166 - accuracy: 0.8018 - val_loss: 0.9731 - val_accuracy: 0.7105\n",
      "Epoch 93/100\n",
      "152/152 [==============================] - 0s 2ms/step - loss: 0.4169 - accuracy: 0.8018 - val_loss: 0.9466 - val_accuracy: 0.7105\n",
      "Epoch 94/100\n",
      "152/152 [==============================] - 0s 2ms/step - loss: 0.4199 - accuracy: 0.7952 - val_loss: 0.9317 - val_accuracy: 0.7105\n",
      "Epoch 95/100\n",
      "152/152 [==============================] - 0s 2ms/step - loss: 0.4167 - accuracy: 0.8018 - val_loss: 0.9701 - val_accuracy: 0.7105\n",
      "Epoch 96/100\n",
      "152/152 [==============================] - 0s 2ms/step - loss: 0.4165 - accuracy: 0.8018 - val_loss: 0.9948 - val_accuracy: 0.7018\n",
      "Epoch 97/100\n",
      "152/152 [==============================] - 0s 2ms/step - loss: 0.4148 - accuracy: 0.7974 - val_loss: 1.0434 - val_accuracy: 0.7193\n",
      "Epoch 98/100\n",
      "152/152 [==============================] - 0s 2ms/step - loss: 0.4126 - accuracy: 0.8018 - val_loss: 0.9994 - val_accuracy: 0.7018\n",
      "Epoch 99/100\n",
      "152/152 [==============================] - 0s 2ms/step - loss: 0.4150 - accuracy: 0.7996 - val_loss: 1.0033 - val_accuracy: 0.7105\n",
      "Epoch 100/100\n",
      "152/152 [==============================] - 0s 2ms/step - loss: 0.4138 - accuracy: 0.8018 - val_loss: 1.0107 - val_accuracy: 0.7105\n"
     ]
    },
    {
     "data": {
      "text/plain": [
       "<tensorflow.python.keras.callbacks.History at 0x7f4e245f66d0>"
      ]
     },
     "execution_count": 66,
     "metadata": {},
     "output_type": "execute_result"
    }
   ],
   "source": [
    "classifier.fit(X_train,y_train, batch_size=3,epochs=100,validation_split=.20)"
   ]
  },
  {
   "cell_type": "code",
   "execution_count": 67,
   "metadata": {},
   "outputs": [],
   "source": [
    "y_pred=classifier.predict(X_test)\n",
    "y_pred=(y_pred>0.5)"
   ]
  },
  {
   "cell_type": "code",
   "execution_count": 68,
   "metadata": {},
   "outputs": [
    {
     "data": {
      "text/plain": [
       "array([[108,  28],\n",
       "       [ 21,  43]])"
      ]
     },
     "execution_count": 68,
     "metadata": {},
     "output_type": "execute_result"
    }
   ],
   "source": [
    "from sklearn import metrics\n",
    "cnf=metrics.confusion_matrix(y_test,y_pred)\n",
    "cnf"
   ]
  },
  {
   "cell_type": "code",
   "execution_count": 69,
   "metadata": {},
   "outputs": [
    {
     "name": "stdout",
     "output_type": "stream",
     "text": [
      "              precision    recall  f1-score   support\n",
      "\n",
      "           0       0.84      0.79      0.82       136\n",
      "           1       0.61      0.67      0.64        64\n",
      "\n",
      "    accuracy                           0.76       200\n",
      "   macro avg       0.72      0.73      0.73       200\n",
      "weighted avg       0.76      0.76      0.76       200\n",
      "\n"
     ]
    }
   ],
   "source": [
    "print(metrics.classification_report(y_test,y_pred))"
   ]
  },
  {
   "cell_type": "code",
   "execution_count": null,
   "metadata": {},
   "outputs": [],
   "source": []
  }
 ],
 "metadata": {
  "kernelspec": {
   "display_name": "Python 3",
   "language": "python",
   "name": "python3"
  },
  "language_info": {
   "codemirror_mode": {
    "name": "ipython",
    "version": 3
   },
   "file_extension": ".py",
   "mimetype": "text/x-python",
   "name": "python",
   "nbconvert_exporter": "python",
   "pygments_lexer": "ipython3",
   "version": "3.8.5"
  }
 },
 "nbformat": 4,
 "nbformat_minor": 4
}
